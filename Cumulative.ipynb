{
  "nbformat": 4,
  "nbformat_minor": 0,
  "metadata": {
    "colab": {
      "provenance": [],
      "authorship_tag": "ABX9TyMV1WUKhOc2qGa+i6aYugtI",
      "include_colab_link": true
    },
    "kernelspec": {
      "name": "python3",
      "display_name": "Python 3"
    },
    "language_info": {
      "name": "python"
    }
  },
  "cells": [
    {
      "cell_type": "markdown",
      "metadata": {
        "id": "view-in-github",
        "colab_type": "text"
      },
      "source": [
        "<a href=\"https://colab.research.google.com/github/yujie166/phythons/blob/main/Cumulative.ipynb\" target=\"_parent\"><img src=\"https://colab.research.google.com/assets/colab-badge.svg\" alt=\"Open In Colab\"/></a>"
      ]
    },
    {
      "cell_type": "code",
      "execution_count": null,
      "metadata": {
        "id": "NjxZKJ-5Q7s7"
      },
      "outputs": [],
      "source": [
        "import pandas as pd\n",
        "import matplotlib.pyplot as plt\n",
        "import seaborn as sns\n",
        "\n",
        "# 讀取證券時間序列數據\n",
        "df = pd.read_csv('stock_data.csv', parse_dates=['Date'], index_col='Date')\n",
        "\n",
        "# 繪製收盤價折線圖\n",
        "plt.figure(figsize=(10, 6))\n",
        "plt.plot(df['Close'])\n",
        "plt.xlabel('Date')\n",
        "plt.ylabel('Closing Price')\n",
        "plt.title('Stock Price')\n",
        "plt.show()\n",
        "\n",
        "# 繪製收盤價的移動平均線\n",
        "plt.figure(figsize=(10, 6))\n",
        "plt.plot(df['Close'], label='Close')\n",
        "plt.plot(df['Close'].rolling(window=50).mean(), label='50-day Moving Average')\n",
        "plt.plot(df['Close'].rolling(window=200).mean(), label='200-day Moving Average')\n",
        "plt.xlabel('Date')\n",
        "plt.ylabel('Closing Price')\n",
        "plt.title('Stock Price with Moving Averages')\n",
        "plt.legend()\n",
        "plt.show()\n",
        "\n",
        "# 繪製股票收益率的分佈圖\n",
        "returns = df['Close'].pct_change()\n",
        "returns = returns.dropna()  # 刪除缺失值\n",
        "plt.figure(figsize=(10, 6))\n",
        "sns.histplot(returns, kde=True)\n",
        "plt.xlabel('Returns')\n",
        "plt.ylabel('Frequency')\n",
        "plt.title('Stock Returns Distribution')\n",
        "plt.show()\n",
        "\n",
        "# 繪製收益率的累積收益圖\n",
        "cumulative_returns = (1 + returns).cumprod() - 1\n",
        "plt.figure(figsize=(10, 6))\n",
        "plt.plot(cumulative_returns)\n",
        "plt.xlabel('Date')\n",
        "plt.ylabel('Cumulative Returns')\n",
        "plt.title('Cumulative Returns')\n",
        "plt.show()"
      ]
    }
  ]
}