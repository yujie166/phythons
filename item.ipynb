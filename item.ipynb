{
  "nbformat": 4,
  "nbformat_minor": 0,
  "metadata": {
    "colab": {
      "provenance": [],
      "authorship_tag": "ABX9TyNI8Y2WqVlutFOEXMFJjGl9",
      "include_colab_link": true
    },
    "kernelspec": {
      "name": "python3",
      "display_name": "Python 3"
    },
    "language_info": {
      "name": "python"
    }
  },
  "cells": [
    {
      "cell_type": "markdown",
      "metadata": {
        "id": "view-in-github",
        "colab_type": "text"
      },
      "source": [
        "<a href=\"https://colab.research.google.com/github/yujie166/phythons/blob/main/item.ipynb\" target=\"_parent\"><img src=\"https://colab.research.google.com/assets/colab-badge.svg\" alt=\"Open In Colab\"/></a>"
      ]
    },
    {
      "cell_type": "code",
      "execution_count": null,
      "metadata": {
        "colab": {
          "base_uri": "https://localhost:8080/"
        },
        "id": "k6A0_KBZ5lR-",
        "outputId": "19058b8f-14cd-4afc-a58f-9a90b695570e"
      },
      "outputs": [
        {
          "output_type": "stream",
          "name": "stdout",
          "text": [
            "apple\n",
            "['apple', 'grape', 'orange']\n",
            "['apple', 'grape', 'orange', 'kiwi']\n",
            "4\n",
            "apple\n",
            "grape\n",
            "orange\n",
            "kiwi\n"
          ]
        }
      ],
      "source": [
        "\n",
        "fruits = [\"apple\", \"banana\", \"orange\"]\n",
        "\n",
        "\n",
        "print(fruits[0])\n",
        "\n",
        "\n",
        "fruits[1] = \"grape\"\n",
        "print(fruits)\n",
        "\n",
        "\n",
        "fruits.append(\"kiwi\")\n",
        "print(fruits)\n",
        "\n",
        "\n",
        "print(len(fruits))\n",
        "\n",
        "for fruit in fruits:\n",
        "    print(fruit)\n"
      ]
    },
    {
      "cell_type": "code",
      "source": [
        "\n",
        "person = (\"John\", 25, \"USA\")\n",
        "\n",
        "\n",
        "print(person[0])\n",
        "\n",
        "\n",
        "name, age, country = person\n",
        "print(name, age, country)\n"
      ],
      "metadata": {
        "colab": {
          "base_uri": "https://localhost:8080/"
        },
        "id": "xjAkxjEa60k8",
        "outputId": "b4d0a5c0-558a-443e-fe32-fb293a80d085"
      },
      "execution_count": null,
      "outputs": [
        {
          "output_type": "stream",
          "name": "stdout",
          "text": [
            "John\n",
            "John 25 USA\n"
          ]
        }
      ]
    },
    {
      "cell_type": "code",
      "source": [
        "\n",
        "person = {\"name\": \"John\", \"age\": 25, \"country\": \"USA\"}\n",
        "\n",
        "print(person[\"name\"])\n",
        "person[\"age\"] = 30\n",
        "print(person)\n",
        "person[\"city\"] = \"New York\"\n",
        "print(person)\n",
        "del person[\"country\"]\n",
        "print(person)\n",
        "for key, value in person.items():\n",
        "    print(key, value)"
      ],
      "metadata": {
        "colab": {
          "base_uri": "https://localhost:8080/"
        },
        "id": "wmH9i7Wd67yS",
        "outputId": "ba7b9251-eb8e-4e5b-f75e-855be456fb1b"
      },
      "execution_count": null,
      "outputs": [
        {
          "output_type": "stream",
          "name": "stdout",
          "text": [
            "John\n",
            "{'name': 'John', 'age': 30, 'country': 'USA'}\n",
            "{'name': 'John', 'age': 30, 'country': 'USA', 'city': 'New York'}\n",
            "{'name': 'John', 'age': 30, 'city': 'New York'}\n",
            "name John\n",
            "age 30\n",
            "city New York\n"
          ]
        }
      ]
    },
    {
      "cell_type": "code",
      "source": [],
      "metadata": {
        "id": "cG4PKIKT7AtE"
      },
      "execution_count": null,
      "outputs": []
    }
  ]
}