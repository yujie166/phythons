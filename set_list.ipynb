{
  "nbformat": 4,
  "nbformat_minor": 0,
  "metadata": {
    "colab": {
      "provenance": [],
      "authorship_tag": "ABX9TyM8gxmGOK+9iLvZykMKn3xN",
      "include_colab_link": true
    },
    "kernelspec": {
      "name": "python3",
      "display_name": "Python 3"
    },
    "language_info": {
      "name": "python"
    }
  },
  "cells": [
    {
      "cell_type": "markdown",
      "metadata": {
        "id": "view-in-github",
        "colab_type": "text"
      },
      "source": [
        "<a href=\"https://colab.research.google.com/github/yujie166/phythons/blob/main/set_list.ipynb\" target=\"_parent\"><img src=\"https://colab.research.google.com/assets/colab-badge.svg\" alt=\"Open In Colab\"/></a>"
      ]
    },
    {
      "cell_type": "code",
      "execution_count": 2,
      "metadata": {
        "colab": {
          "base_uri": "https://localhost:8080/"
        },
        "id": "gdEuE917Oowc",
        "outputId": "9a1fed6a-615a-4b70-a35c-2b90ff6fa8c7"
      },
      "outputs": [
        {
          "output_type": "stream",
          "name": "stdout",
          "text": [
            "apple\n",
            "['apple', 'grape', 'orange']\n",
            "['apple', 'grape', 'orange', 'kiwi']\n",
            "4\n",
            "apple\n",
            "grape\n",
            "orange\n",
            "kiwi\n"
          ]
        }
      ],
      "source": [
        "# 创建一个列表\n",
        "fruits = [\"apple\", \"banana\", \"orange\"]\n",
        "\n",
        "# 访问列表中的元素\n",
        "print(fruits[0])  # 输出：apple\n",
        "\n",
        "# 修改列表中的元素\n",
        "fruits[1] = \"grape\"\n",
        "print(fruits)  # 输出：[\"apple\", \"grape\", \"orange\"]\n",
        "\n",
        "# 添加元素到列表末尾\n",
        "fruits.append(\"kiwi\")\n",
        "print(fruits)  # 输出：[\"apple\", \"grape\", \"orange\", \"kiwi\"]\n",
        "\n",
        "# 列表的长度\n",
        "print(len(fruits))  # 输出：4\n",
        "\n",
        "# 遍历列表中的元素\n",
        "for fruit in fruits:\n",
        "    print(fruit)"
      ]
    },
    {
      "cell_type": "code",
      "source": [
        "# 创建一个元组\n",
        "person = (\"John\", 25, \"USA\")\n",
        "\n",
        "# 访问元组中的元素\n",
        "print(person[0])  # 输出：John\n",
        "\n",
        "# 元组是不可修改的\n",
        "# person[1] = 30  # 错误，元组不支持修改\n",
        "\n",
        "# 元组解包\n",
        "name, age, country = person\n",
        "print(name, age, country)  # 输出：John 25 USA"
      ],
      "metadata": {
        "colab": {
          "base_uri": "https://localhost:8080/"
        },
        "id": "Olq9BIbqOvyS",
        "outputId": "e63aa7fe-0cde-4226-b07b-647964f6df1b"
      },
      "execution_count": 3,
      "outputs": [
        {
          "output_type": "stream",
          "name": "stdout",
          "text": [
            "John\n",
            "John 25 USA\n"
          ]
        }
      ]
    },
    {
      "cell_type": "code",
      "source": [
        "# 创建一个字典\n",
        "person = {\"name\": \"John\", \"age\": 25, \"country\": \"USA\"}\n",
        "\n",
        "# 访问字典中的值\n",
        "print(person[\"name\"])  # 输出：John\n",
        "\n",
        "# 修改字典中的值\n",
        "person[\"age\"] = 30\n",
        "print(person)  # 输出：{\"name\": \"John\", \"age\": 30, \"country\": \"USA\"}\n",
        "\n",
        "# 添加新键值对到字典\n",
        "person[\"city\"] = \"New York\"\n",
        "print(person)  # 输出：{\"name\": \"John\", \"age\": 30, \"country\": \"USA\", \"city\": \"New York\"}\n",
        "\n",
        "# 删除字典中的键值对\n",
        "del person[\"country\"]\n",
        "print(person)  # 输出：{\"name\": \"John\", \"age\": 30, \"city\": \"New York\"}\n",
        "\n",
        "# 遍历字典中的键值对\n",
        "for key, value in person.items():\n",
        "    print(key, value)"
      ],
      "metadata": {
        "id": "C-ibLf63PGRZ"
      },
      "execution_count": null,
      "outputs": []
    }
  ]
}