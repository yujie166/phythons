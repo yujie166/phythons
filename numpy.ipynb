{
  "nbformat": 4,
  "nbformat_minor": 0,
  "metadata": {
    "colab": {
      "provenance": [],
      "authorship_tag": "ABX9TyMAIhyV7zdDreKrrkOogqO8",
      "include_colab_link": true
    },
    "kernelspec": {
      "name": "python3",
      "display_name": "Python 3"
    },
    "language_info": {
      "name": "python"
    }
  },
  "cells": [
    {
      "cell_type": "markdown",
      "metadata": {
        "id": "view-in-github",
        "colab_type": "text"
      },
      "source": [
        "<a href=\"https://colab.research.google.com/github/yujie166/phythons/blob/main/numpy.ipynb\" target=\"_parent\"><img src=\"https://colab.research.google.com/assets/colab-badge.svg\" alt=\"Open In Colab\"/></a>"
      ]
    },
    {
      "cell_type": "code",
      "execution_count": null,
      "metadata": {
        "id": "XVnyHHGXq33f"
      },
      "outputs": [],
      "source": [
        "import numpy as np\n",
        "x = np.array([1, 2, 3])\n",
        "x\n",
        "array([1,2, 3])\n",
        "y = np.arange(10)  # 類似 Python 的 range, 但是回傳 array\n",
        "y\n",
        "array([0, 1, 2, 3, 4, 5, 6, 7, 8, 9])"
      ]
    },
    {
      "cell_type": "code",
      "source": [
        "a = np.array([1, 2, 3, 6])\n",
        "b = np.linspace(0, 2, 4)  # 建立一個array, 在0與2的範圍之間讓4個點3等分\n",
        "c = a - b\n",
        "c\n",
        "array([ 1.   ,  1.33333333,  1.66666667,  4.        ])\n",
        "a**2\n",
        "array([ 1,  4,  9, 36])"
      ],
      "metadata": {
        "id": "Z1E2KQt-rUcG"
      },
      "execution_count": null,
      "outputs": []
    },
    {
      "cell_type": "code",
      "source": [
        "a = np.linspace(-np.pi, np.pi, 100)\n",
        "b = np.sin(a)\n",
        "c = np.cos(a)"
      ],
      "metadata": {
        "id": "dORVe26Csuia"
      },
      "execution_count": null,
      "outputs": []
    },
    {
      "cell_type": "code",
      "source": [
        "from numpy.random import rand\n",
        "from numpy.linalg import solve, inv\n",
        "a = np.array([[1, 2, 3], [3, 4, 6.7], [5, 9.0, 5]])\n",
        "a.transpose()\n",
        "array([[ 1. ,  3. ,  5. ],\n",
        "       [ 2. ,  4. ,  9. ],\n",
        "       [ 3. ,  6.7,  5. ]])\n",
        "inv(a)\n",
        "array([[-2.27683616,  0.96045198,  0.07909605],\n",
        "       [ 1.04519774, -0.56497175,  0.1299435 ],\n",
        "       [ 0.39548023,  0.05649718, -0.11299435]])\n",
        "b =  np.array([3, 2, 1])\n",
        "solve(a, b)  # 解方程式 ax = b\n",
        "array([-4.83050847,  2.13559322,  1.18644068])\n",
        "c = rand(3, 3)  # 建立一個 3x3 隨機矩陣\n",
        "c\n",
        "array([[  3.98732789,   2.47702609,   4.71167924],\n",
        "       [  9.24410671,   5.5240412 ,  10.6468792 ],\n",
        "       [ 10.38136661,   8.44968437,  15.17639591]])\n",
        "np.dot(a, c)  # 矩陣相乘\n",
        "array([[  53.61964114,   38.8741616 ,   71.53462537],\n",
        "       [ 118.4935668 ,   86.14012835,  158.40440712],\n",
        "       [ 155.04043289,  104.3499231 ,  195.26228855]])"
      ],
      "metadata": {
        "id": "LPp8SNHctEbL"
      },
      "execution_count": null,
      "outputs": []
    }
  ]
}