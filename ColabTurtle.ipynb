{
  "nbformat": 4,
  "nbformat_minor": 0,
  "metadata": {
    "colab": {
      "provenance": [],
      "authorship_tag": "ABX9TyPzh8eTlmw/dKdv6/s4+Var",
      "include_colab_link": true
    },
    "kernelspec": {
      "name": "python3",
      "display_name": "Python 3"
    },
    "language_info": {
      "name": "python"
    }
  },
  "cells": [
    {
      "cell_type": "markdown",
      "metadata": {
        "id": "view-in-github",
        "colab_type": "text"
      },
      "source": [
        "<a href=\"https://colab.research.google.com/github/yujie166/phythons/blob/main/ColabTurtle.ipynb\" target=\"_parent\"><img src=\"https://colab.research.google.com/assets/colab-badge.svg\" alt=\"Open In Colab\"/></a>"
      ]
    },
    {
      "cell_type": "code",
      "execution_count": null,
      "metadata": {
        "id": "aELR2zRmN1Ke"
      },
      "outputs": [],
      "source": [
        "import turtle\n",
        "window = turtle.Screen()\n",
        "t = turtle.Turtle()\n",
        "import turtle\n",
        "\n",
        "window = turtle.Screen()\n",
        "t = turtle.Turtle()\n",
        "\n",
        "for _ in range(4):\n",
        "    t.forward(100)\n",
        "    t.right(90)\n",
        "\n",
        "turtle.done()"
      ]
    }
  ]
}