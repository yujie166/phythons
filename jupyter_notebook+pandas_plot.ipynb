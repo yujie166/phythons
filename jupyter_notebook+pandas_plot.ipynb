{
  "nbformat": 4,
  "nbformat_minor": 0,
  "metadata": {
    "colab": {
      "provenance": [],
      "authorship_tag": "ABX9TyPbR0ELs2mjyS4oS6rArC8z",
      "include_colab_link": true
    },
    "kernelspec": {
      "name": "python3",
      "display_name": "Python 3"
    },
    "language_info": {
      "name": "python"
    }
  },
  "cells": [
    {
      "cell_type": "markdown",
      "metadata": {
        "id": "view-in-github",
        "colab_type": "text"
      },
      "source": [
        "<a href=\"https://colab.research.google.com/github/yujie166/phythons/blob/main/jupyter_notebook%2Bpandas_plot.ipynb\" target=\"_parent\"><img src=\"https://colab.research.google.com/assets/colab-badge.svg\" alt=\"Open In Colab\"/></a>"
      ]
    },
    {
      "cell_type": "code",
      "execution_count": null,
      "metadata": {
        "id": "ZHrb2tKSPreh"
      },
      "outputs": [],
      "source": [
        "import pandas as pd\n",
        "import matplotlib.pyplot as plt\n",
        "\n",
        "# 假設有一個包含資料的Pandas DataFrame\n",
        "data = {\n",
        "    'x': [1, 2, 3, 4, 5],\n",
        "    'y': [2, 4, 6, 8, 10]\n",
        "}\n",
        "\n",
        "df = pd.DataFrame(data)\n",
        "\n",
        "# 使用Pandas的plot()函式繪製折線圖\n",
        "df.plot(x='x', y='y', kind='line')\n",
        "plt.xlabel('X軸標籤')\n",
        "plt.ylabel('Y軸標籤')\n",
        "plt.title('折線圖')\n",
        "plt.grid(True)\n",
        "plt.show()"
      ]
    }
  ]
}