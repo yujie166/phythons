{
  "nbformat": 4,
  "nbformat_minor": 0,
  "metadata": {
    "colab": {
      "provenance": [],
      "authorship_tag": "ABX9TyP+wzQtB4GFxVQ9nUcXHEKV",
      "include_colab_link": true
    },
    "kernelspec": {
      "name": "python3",
      "display_name": "Python 3"
    },
    "language_info": {
      "name": "python"
    }
  },
  "cells": [
    {
      "cell_type": "markdown",
      "metadata": {
        "id": "view-in-github",
        "colab_type": "text"
      },
      "source": [
        "<a href=\"https://colab.research.google.com/github/yujie166/phythons/blob/main/snake.ipynb\" target=\"_parent\"><img src=\"https://colab.research.google.com/assets/colab-badge.svg\" alt=\"Open In Colab\"/></a>"
      ]
    },
    {
      "cell_type": "code",
      "execution_count": null,
      "metadata": {
        "id": "I3IBynkoOP2E"
      },
      "outputs": [],
      "source": [
        "import pygame\n",
        "import random\n",
        "\n",
        "# 初始化游戏\n",
        "pygame.init()\n",
        "\n",
        "# 游戏窗口尺寸\n",
        "window_width = 800\n",
        "window_height = 600\n",
        "\n",
        "# 定义颜色\n",
        "black = (0, 0, 0)\n",
        "white = (255, 255, 255)\n",
        "red = (255, 0, 0)\n",
        "\n",
        "# 创建游戏窗口\n",
        "window = pygame.display.set_mode((window_width, window_height))\n",
        "pygame.display.set_caption(\"贪吃蛇游戏\")\n",
        "\n",
        "# 定义蛇的初始位置和大小\n",
        "snake_x = window_width / 2\n",
        "snake_y = window_height / 2\n",
        "snake_size = 10\n",
        "\n",
        "# 定义蛇的移动速度\n",
        "snake_speed = 10\n",
        "\n",
        "# 定义蛇的移动方向\n",
        "direction = \"RIGHT\"\n",
        "\n",
        "# 定义食物的初始位置\n",
        "food_x = round(random.randrange(0, window_width - snake_size) / 10.0) * 10.0\n",
        "food_y = round(random.randrange(0, window_height - snake_size) / 10.0) * 10.0\n",
        "\n",
        "# 游戏结束标志\n",
        "game_over = False\n",
        "\n",
        "# 游戏循环\n",
        "while not game_over:\n",
        "    for event in pygame.event.get():\n",
        "        if event.type == pygame.QUIT:\n",
        "            game_over = True\n",
        "\n",
        "        # 获取键盘按键事件\n",
        "        if event.type == pygame.KEYDOWN:\n",
        "            if event.key == pygame.K_LEFT:\n",
        "                direction = \"LEFT\"\n",
        "            elif event.key == pygame.K_RIGHT:\n",
        "                direction = \"RIGHT\"\n",
        "            elif event.key == pygame.K_UP:\n",
        "                direction = \"UP\"\n",
        "            elif event.key == pygame.K_DOWN:\n",
        "                direction = \"DOWN\"\n",
        "\n",
        "    # 根据方向更新蛇的位置\n",
        "    if direction == \"LEFT\":\n",
        "        snake_x -= snake_speed\n",
        "    elif direction == \"RIGHT\":\n",
        "        snake_x += snake_speed\n",
        "    elif direction == \"UP\":\n",
        "        snake_y -= snake_speed\n",
        "    elif direction == \"DOWN\":\n",
        "        snake_y += snake_speed\n",
        "\n",
        "    # 绘制游戏窗口\n",
        "    window.fill(black)\n",
        "    pygame.draw.rect(window, white, [food_x, food_y, snake_size, snake_size])\n",
        "    pygame.draw.rect(window, red, [snake_x, snake_y, snake_size, snake_size])\n",
        "    pygame.display.update()\n",
        "\n",
        "    # 判断蛇是否吃到食物\n",
        "    if snake_x == food_x and snake_y == food_y:\n",
        "        food_x = round(random.randrange(0, window_width - snake_size) / 10.0) * 10.0\n",
        "        food_y = round(random.randrange(0, window_height - snake_size) / 10.0) * 10.0\n",
        "\n",
        "    # 判断蛇是否撞墙\n",
        "    if snake_x >= window_width or snake_x < 0 or snake_y >= window_height or snake_y < 0:\n",
        "        game_over = True\n",
        "\n",
        "    # 刷新游戏界面\n",
        "    pygame.display.flip()\n",
        "\n",
        "# 退出游戏\n",
        "pygame.quit()"
      ]
    }
  ]
}